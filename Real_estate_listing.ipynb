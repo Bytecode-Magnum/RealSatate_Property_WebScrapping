{
 "cells": [
  {
   "cell_type": "code",
   "execution_count": 40,
   "id": "e41b7816",
   "metadata": {},
   "outputs": [
    {
     "name": "stdout",
     "output_type": "stream",
     "text": [
      "task successfull\n",
      "Time taken: 242.77 seconds\n"
     ]
    }
   ],
   "source": [
    "from selenium import webdriver\n",
    "from selenium.common import NoSuchElementException\n",
    "from selenium.webdriver.common.by import By\n",
    "from selenium.webdriver.chrome.options import Options\n",
    "import time\n",
    "import pandas as pd\n",
    "import chromedriver_autoinstaller\n",
    "chromedriver_autoinstaller.install()\n",
    "#to apply the headless mode, use below code\n",
    "chrome_options=Options()\n",
    "chrome_options.add_argument(\"--headless\")\n",
    "driver=webdriver.Chrome(options=chrome_options)\n",
    "# driver=webdriver.Chrome()\n",
    "url=\"https://www.royallepage.ca/en/search/homes/on/toronto/?min_price=0&max_price=5000000%2B&lat=43.663492&lng=-79.337554&address=Toronto&address_type=city&city_name=Toronto&prov_code=ON&radius=0&search_str=Toronto%2C+ON%2C+Canada&school_id=&display_type=gallery-view\"\n",
    "driver.get(url)\n",
    "driver.maximize_window()\n",
    "time.sleep(3)\n",
    "#variables to store various data\n",
    "price=[]\n",
    "category=[]\n",
    "street=[]\n",
    "city=[]\n",
    "link=[]\n",
    "# finding the number of pages\n",
    "n=driver.find_element(By.XPATH,'//*[@id=\"search-results-result-count\"]').text\n",
    "n=n.replace(\",\",\"\")\n",
    "n=n.replace(\"+\",\"\")\n",
    "n=int(n)\n",
    "nops=round(n/46)\n",
    "suffix=\"/?min_price=0&max_price=5000000%2B&lat=43.663492&lng=-79.337554&address=Toronto&address_type=city&city_name=Toronto&prov_code=ON&radius=0&search_str=Toronto%2C+ON%2C+Canada&school_id=&display_type=gallery-view\"\n",
    "prefix=\"https://www.royallepage.ca/en/search/homes/on/toronto/\"\n",
    "start=time.time()\n",
    "for i in range(2,nops+1):\n",
    "    container=driver.find_element(By.XPATH,'//*[@id=\"gallery-view2\"]/ul')\n",
    "    li_container=container.find_elements(By.XPATH,\"./li[position() >= 2 and position() <= 46]\")\n",
    "    for item in li_container:\n",
    "        price.append(item.find_element(By.XPATH,'.//span[@class=\"title--h3 price\"]').text)\n",
    "        street.append(item.find_element(By.XPATH,'.//address[@class=\"address-1\"]').text)\n",
    "        city.append(item.find_element(By.XPATH,'.//address[@class=\"card__address-2\"]').text)\n",
    "        link.append(item.find_element(By.XPATH,'.//figure[@class=\"card__media\"]//a').get_attribute(\"href\"))\n",
    "        category.append(item.find_element(By.XPATH,'./div/div[2]').text)\n",
    "    new_url=prefix+str(i)+suffix\n",
    "    driver.get(new_url)\n",
    "    time.sleep(3)\n",
    "end=time.time()\n",
    "data=pd.DataFrame({\"Price\":price,\"Street\":street,\"Address\":city,\"Category\":category,\"Link\":link})\n",
    "data.to_csv(\"realstate_data.csv\",index=False)\n",
    "print(\"task successfull\")\n",
    "taken=end-start\n",
    "print(\"Time taken: {:.2f} seconds\".format(taken))\n",
    "driver.quit()"
   ]
  }
 ],
 "metadata": {
  "kernelspec": {
   "display_name": "Python 3 (ipykernel)",
   "language": "python",
   "name": "python3"
  },
  "language_info": {
   "codemirror_mode": {
    "name": "ipython",
    "version": 3
   },
   "file_extension": ".py",
   "mimetype": "text/x-python",
   "name": "python",
   "nbconvert_exporter": "python",
   "pygments_lexer": "ipython3",
   "version": "3.10.7"
  }
 },
 "nbformat": 4,
 "nbformat_minor": 5
}
